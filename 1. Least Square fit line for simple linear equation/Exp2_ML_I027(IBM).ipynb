{
  "nbformat": 4,
  "nbformat_minor": 0,
  "metadata": {
    "colab": {
      "name": "Exp2_ML_I027(IBM).ipynb",
      "provenance": [],
      "collapsed_sections": [],
      "authorship_tag": "ABX9TyM40jthurdwjpUZ7n3Js2BX",
      "include_colab_link": true
    },
    "kernelspec": {
      "name": "python3",
      "display_name": "Python 3"
    }
  },
  "cells": [
    {
      "cell_type": "markdown",
      "metadata": {
        "id": "view-in-github",
        "colab_type": "text"
      },
      "source": [
        "<a href=\"https://colab.research.google.com/github/saketlakhotia17/IBM_MachineLearning/blob/main/Exp2_ML_I027(IBM).ipynb\" target=\"_parent\"><img src=\"https://colab.research.google.com/assets/colab-badge.svg\" alt=\"Open In Colab\"/></a>"
      ]
    },
    {
      "cell_type": "markdown",
      "metadata": {
        "id": "jqPKnTKz906U"
      },
      "source": [
        "**EXPERIMENT NO. 2**\n",
        "\n",
        "LEAST SQUARE FIT LINE FOR SIMPLE LINEAR EQUATION"
      ]
    },
    {
      "cell_type": "code",
      "metadata": {
        "id": "CGpIBDVG9kUS"
      },
      "source": [
        "#Numpy is used for scientific calculations\n",
        "import numpy as np\n",
        "\n",
        "#sklearn is the library which provides different calculations\n",
        "from sklearn.linear_model import LinearRegression"
      ],
      "execution_count": null,
      "outputs": []
    },
    {
      "cell_type": "code",
      "metadata": {
        "id": "NuzPN1UL_JEU",
        "colab": {
          "base_uri": "https://localhost:8080/",
          "height": 35
        },
        "outputId": "23f48047-682c-4e0e-83a0-e7f5f7dcefe8"
      },
      "source": [
        "x = np.array([5, 15, 25, 35, 45, 55])\n",
        "y = np.array([5, 20, 14, 32, 22, 38])\n",
        "x.shape"
      ],
      "execution_count": null,
      "outputs": [
        {
          "output_type": "execute_result",
          "data": {
            "text/plain": [
              "(6,)"
            ]
          },
          "metadata": {
            "tags": []
          },
          "execution_count": 11
        }
      ]
    },
    {
      "cell_type": "code",
      "metadata": {
        "id": "D9yhaHpN_zAd",
        "colab": {
          "base_uri": "https://localhost:8080/",
          "height": 35
        },
        "outputId": "2a5b7ea4-ecbc-4ee2-a4e9-4f2c30466368"
      },
      "source": [
        "#-1 says number of rows\n",
        "x=x.reshape(-1,1)\n",
        "x.shape"
      ],
      "execution_count": null,
      "outputs": [
        {
          "output_type": "execute_result",
          "data": {
            "text/plain": [
              "(6, 1)"
            ]
          },
          "metadata": {
            "tags": []
          },
          "execution_count": 12
        }
      ]
    },
    {
      "cell_type": "code",
      "metadata": {
        "id": "_Yo3LpNkA0ss",
        "colab": {
          "base_uri": "https://localhost:8080/",
          "height": 125
        },
        "outputId": "45fad01f-d42f-42ef-fe28-1a5091bee824"
      },
      "source": [
        "y = y.reshape(-1,1)\n",
        "y"
      ],
      "execution_count": null,
      "outputs": [
        {
          "output_type": "execute_result",
          "data": {
            "text/plain": [
              "array([[ 5],\n",
              "       [20],\n",
              "       [14],\n",
              "       [32],\n",
              "       [22],\n",
              "       [38]])"
            ]
          },
          "metadata": {
            "tags": []
          },
          "execution_count": 13
        }
      ]
    },
    {
      "cell_type": "code",
      "metadata": {
        "id": "Ce_G1ypFB9EY",
        "colab": {
          "base_uri": "https://localhost:8080/",
          "height": 326
        },
        "outputId": "8efb3626-46a8-4de7-a015-aaaa036e75c5"
      },
      "source": [
        "import matplotlib.pyplot as plt\n",
        "plt.scatter(x,y)\n",
        "plt.xlabel('Independent variable, x ----->')\n",
        "plt.ylabel('Dependent variable, y ------->')\n",
        "plt.title('Data points',fontsize = 30)"
      ],
      "execution_count": null,
      "outputs": [
        {
          "output_type": "execute_result",
          "data": {
            "text/plain": [
              "Text(0.5, 1.0, 'Data points')"
            ]
          },
          "metadata": {
            "tags": []
          },
          "execution_count": 14
        },
        {
          "output_type": "display_data",
          "data": {
            "image/png": "[encoded data removed]",
            "text/plain": [
              "<Figure size 432x288 with 1 Axes>"
            ]
          },
          "metadata": {
            "tags": [],
            "needs_background": "light"
          }
        }
      ]
    },
    {
      "cell_type": "code",
      "metadata": {
        "id": "9boMnj7lDeAb",
        "colab": {
          "base_uri": "https://localhost:8080/",
          "height": 35
        },
        "outputId": "7af0ab38-d1fe-44bf-ce69-ad4be8ce01b7"
      },
      "source": [
        "#Create a model which is linear line based on Least Square Fit\n",
        "model = LinearRegression()\n",
        "\n",
        "#Fit model to the given data points\n",
        "model.fit(x,y)\n",
        "\n",
        "#Get value of R-Square\n",
        "r_sq = model.score(x,y)\n",
        "print('R-squaredValue/Coefficient of Determination is',r_sq)"
      ],
      "execution_count": null,
      "outputs": [
        {
          "output_type": "stream",
          "text": [
            "R-squaredValue/Coefficient of Determination is 0.7158756137479542\n"
          ],
          "name": "stdout"
        }
      ]
    },
    {
      "cell_type": "code",
      "metadata": {
        "id": "ERBO3FxPFzzU",
        "colab": {
          "base_uri": "https://localhost:8080/",
          "height": 53
        },
        "outputId": "33336957-7ad5-417e-bf19-3cb52f53c522"
      },
      "source": [
        "#Best fit line is y_hat = b0 + b1*x\n",
        "b0 = model.intercept_\n",
        "print(\"Intercept is\",b0)\n",
        "\n",
        "b1 = model.coef_\n",
        "print(\"Slope is\",b1)\n",
        "\n",
        "x_predict = x\n",
        "y_predict = model.predict(x_predict)\n",
        "\n",
        "ybar = np.mean(y)"
      ],
      "execution_count": null,
      "outputs": [
        {
          "output_type": "stream",
          "text": [
            "Intercept is [5.63333333]\n",
            "Slope is [[0.54]]\n"
          ],
          "name": "stdout"
        }
      ]
    },
    {
      "cell_type": "code",
      "metadata": {
        "id": "b03A_2X4G3Im",
        "colab": {
          "base_uri": "https://localhost:8080/",
          "height": 326
        },
        "outputId": "4da0a722-2d92-423b-8a58-dc3d4a18a733"
      },
      "source": [
        "plt.scatter(x,y)\n",
        "plt.plot(x_predict, y_predict, 'r-')\n",
        "plt.plot(x, [ybar, ybar, ybar, ybar, ybar, ybar], 'g-')\n",
        "plt.xlabel('Independent variable, x ----->')\n",
        "plt.ylabel('Dependent variable, y ------->')\n",
        "plt.title('Data points',fontsize = 30)"
      ],
      "execution_count": null,
      "outputs": [
        {
          "output_type": "execute_result",
          "data": {
            "text/plain": [
              "Text(0.5, 1.0, 'Data points')"
            ]
          },
          "metadata": {
            "tags": []
          },
          "execution_count": 36
        },
        {
          "output_type": "display_data",
          "data": {
            "image/png": "[encoded data removed]",
            "text/plain": [
              "<Figure size 432x288 with 1 Axes>"
            ]
          },
          "metadata": {
            "tags": [],
            "needs_background": "light"
          }
        }
      ]
    },
    {
      "cell_type": "code",
      "metadata": {
        "id": "pw1RPfCHJK9h",
        "colab": {
          "base_uri": "https://localhost:8080/",
          "height": 53
        },
        "outputId": "d25f93fb-4b04-4822-d7e1-7c7e8b2951f9"
      },
      "source": [
        "xmean = np.mean(x)\n",
        "ymean = np.mean(y)\n",
        "xymean = np.mean(np.multiply(x,y))\n",
        "xmeansq = xmean * xmean\n",
        "xsqmean=np.mean(np.multiply(x,x))\n",
        "\n",
        "b1 = ((xmean*ymean) - (xymean))/(xmeansq - xsqmean)\n",
        "b0 = (ymean - (b1*xmean))\n",
        "\n",
        "print(\"Intercept is \",b0)\n",
        "print(\"Slope is\", b1)"
      ],
      "execution_count": null,
      "outputs": [
        {
          "output_type": "stream",
          "text": [
            "Intercept is  5.633333333333336\n",
            "Slope is 0.5399999999999998\n"
          ],
          "name": "stdout"
        }
      ]
    },
    {
      "cell_type": "code",
      "metadata": {
        "id": "maD1QDHdOyzz",
        "colab": {
          "base_uri": "https://localhost:8080/",
          "height": 283
        },
        "outputId": "2f620926-f5b4-449d-cf94-f4290516bd86"
      },
      "source": [
        "x = 2*np.random.rand(100,1)\n",
        "y = 4 +(3*x)+(2*np.random.rand(100,1))\n",
        "plt.scatter(x,y)"
      ],
      "execution_count": null,
      "outputs": [
        {
          "output_type": "execute_result",
          "data": {
            "text/plain": [
              "<matplotlib.collections.PathCollection at 0x7fd22dd43748>"
            ]
          },
          "metadata": {
            "tags": []
          },
          "execution_count": 40
        },
        {
          "output_type": "display_data",
          "data": {
            "image/png": "[encoded data removed]",
            "text/plain": [
              "<Figure size 432x288 with 1 Axes>"
            ]
          },
          "metadata": {
            "tags": [],
            "needs_background": "light"
          }
        }
      ]
    },
    {
      "cell_type": "code",
      "metadata": {
        "id": "RDE-1ZPuPsqM",
        "colab": {
          "base_uri": "https://localhost:8080/",
          "height": 35
        },
        "outputId": "cd39bbf6-9cea-46b7-ca42-52a316c2f46b"
      },
      "source": [
        "#Create a model which is linear line based on Least Square Fit\n",
        "model = LinearRegression()\n",
        "\n",
        "#Fit model to the given data points\n",
        "model.fit(x,y)\n",
        "\n",
        "#Get value of R-Square\n",
        "r_sq = model.score(x,y)\n",
        "print('R-squaredValue/Coefficient of Determination is',r_sq)"
      ],
      "execution_count": null,
      "outputs": [
        {
          "output_type": "stream",
          "text": [
            "R-squaredValue/Coefficient of Determination is 0.8918828345337018\n"
          ],
          "name": "stdout"
        }
      ]
    },
    {
      "cell_type": "code",
      "metadata": {
        "id": "g30zuzD1PwBa",
        "colab": {
          "base_uri": "https://localhost:8080/",
          "height": 53
        },
        "outputId": "4a004f8e-6d30-48a7-efdc-ffd3b94a40e5"
      },
      "source": [
        "#Best fit line is y_hat = b0 + b1*x\n",
        "b0 = model.intercept_\n",
        "print(\"Intercept is\",b0)\n",
        "\n",
        "b1 = model.coef_\n",
        "print(\"Slope is\",b1)\n",
        "\n",
        "x_predict = x\n",
        "y_predict = model.predict(x_predict)\n",
        "\n",
        "ybar = np.mean(y)"
      ],
      "execution_count": null,
      "outputs": [
        {
          "output_type": "stream",
          "text": [
            "Intercept is [4.93378146]\n",
            "Slope is [[3.11477037]]\n"
          ],
          "name": "stdout"
        }
      ]
    },
    {
      "cell_type": "code",
      "metadata": {
        "id": "XFPXApCPPzqG",
        "colab": {
          "base_uri": "https://localhost:8080/",
          "height": 326
        },
        "outputId": "c2bdf07c-b17d-4e47-b6c6-2cf3ab8f026b"
      },
      "source": [
        "plt.scatter(x,y)\n",
        "plt.plot(x_predict, y_predict, 'r-')\n",
        "plt.xlabel('Independent variable, x ----->')\n",
        "plt.ylabel('Dependent variable, y ------->')\n",
        "plt.title('Data points',fontsize = 30)"
      ],
      "execution_count": null,
      "outputs": [
        {
          "output_type": "execute_result",
          "data": {
            "text/plain": [
              "Text(0.5, 1.0, 'Data points')"
            ]
          },
          "metadata": {
            "tags": []
          },
          "execution_count": 43
        },
        {
          "output_type": "display_data",
          "data": {
            "image/png": "[encoded data removed]",
            "text/plain": [
              "<Figure size 432x288 with 1 Axes>"
            ]
          },
          "metadata": {
            "tags": [],
            "needs_background": "light"
          }
        }
      ]
    },
    {
      "cell_type": "code",
      "metadata": {
        "id": "V0j6d11sRiDA",
        "colab": {
          "base_uri": "https://localhost:8080/",
          "height": 284
        },
        "outputId": "49c423ff-e8cd-4493-988d-04149b0680e5"
      },
      "source": [
        "x = 2*np.random.rand(100,1)\n",
        "y = 4 -(3*x)+(2*np.random.rand(100,1))\n",
        "plt.scatter(x,y)"
      ],
      "execution_count": null,
      "outputs": [
        {
          "output_type": "execute_result",
          "data": {
            "text/plain": [
              "<matplotlib.collections.PathCollection at 0x7fd2369a02b0>"
            ]
          },
          "metadata": {
            "tags": []
          },
          "execution_count": 45
        },
        {
          "output_type": "display_data",
          "data": {
            "image/png": "[encoded data removed]",
            "text/plain": [
              "<Figure size 432x288 with 1 Axes>"
            ]
          },
          "metadata": {
            "tags": [],
            "needs_background": "light"
          }
        }
      ]
    },
    {
      "cell_type": "code",
      "metadata": {
        "id": "nz6uzMv3RrJL",
        "colab": {
          "base_uri": "https://localhost:8080/",
          "height": 283
        },
        "outputId": "f988ad4e-e80c-46e6-9004-85f5fd2b8c84"
      },
      "source": [
        "x = 2*np.random.rand(100,1)\n",
        "y = 4 -(3*x)+(20*np.random.rand(100,1))\n",
        "plt.scatter(x,y)"
      ],
      "execution_count": null,
      "outputs": [
        {
          "output_type": "execute_result",
          "data": {
            "text/plain": [
              "<matplotlib.collections.PathCollection at 0x7fd22de4b5f8>"
            ]
          },
          "metadata": {
            "tags": []
          },
          "execution_count": 46
        },
        {
          "output_type": "display_data",
          "data": {
            "image/png": "[encoded data removed]",
            "text/plain": [
              "<Figure size 432x288 with 1 Axes>"
            ]
          },
          "metadata": {
            "tags": [],
            "needs_background": "light"
          }
        }
      ]
    },
    {
      "cell_type": "code",
      "metadata": {
        "id": "ltGwpSs4Tr2j",
        "colab": {
          "base_uri": "https://localhost:8080/",
          "height": 35
        },
        "outputId": "c53517d4-1003-4098-d29a-62ae14899933"
      },
      "source": [
        "r_sq = model.score(x,y)\n",
        "print('R-squaredValue/Coefficient of Determination is',r_sq)"
      ],
      "execution_count": null,
      "outputs": [
        {
          "output_type": "stream",
          "text": [
            "R-squaredValue/Coefficient of Determination is -0.5995493291072791\n"
          ],
          "name": "stdout"
        }
      ]
    },
    {
      "cell_type": "markdown",
      "metadata": {
        "id": "KpknDzoaRrmB"
      },
      "source": [
        "# Conclusion\n",
        "1. Given set of Data points has positive associatoon.\n",
        "2. For the geiven set od Data points , R^2 value of best fit line is 71%\n",
        "This shows that the best fit line is not very close to data points.\n",
        "3. Y-intercept and slope using functionality of sklearn library and using conventional method is same.\n",
        "4. For the given set of data a new model was generated and data was changecd from positive association to negetive association. R^2 value for the given points is 90% which clearly shows that best fit line is near to data points.\n",
        "5. If given data points are totally scattered then R^2 value reduces to -60%\n"
      ]
    }
  ]
}
