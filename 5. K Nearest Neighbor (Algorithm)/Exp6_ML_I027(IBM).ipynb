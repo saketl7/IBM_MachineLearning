{
  "nbformat": 4,
  "nbformat_minor": 0,
  "metadata": {
    "colab": {
      "name": "Exp6_ML_I027(IBM).ipynb",
      "provenance": [],
      "toc_visible": true,
      "authorship_tag": "ABX9TyPywkAwYWvhhC4uDuy+57X5",
      "include_colab_link": true
    },
    "kernelspec": {
      "name": "python3",
      "display_name": "Python 3"
    }
  },
  "cells": [
    {
      "cell_type": "markdown",
      "metadata": {
        "id": "view-in-github",
        "colab_type": "text"
      },
      "source": [
        "<a href=\"https://colab.research.google.com/github/saketlakhotia17/IBM_MachineLearning/blob/main/5.%20K%20Nearest%20Neighbor%20(Algorithm)/Exp6_ML_I027(IBM).ipynb\" target=\"_parent\"><img src=\"https://colab.research.google.com/assets/colab-badge.svg\" alt=\"Open In Colab\"/></a>"
      ]
    },
    {
      "cell_type": "markdown",
      "metadata": {
        "id": "houDCAzZFNK4"
      },
      "source": [
        "# Experiment 6 - K Nearest Neighbor (Algorithm)"
      ]
    },
    {
      "cell_type": "code",
      "metadata": {
        "id": "gMcrw1LME2NO"
      },
      "source": [
        "import pandas as pd\n",
        "from math import sqrt"
      ],
      "execution_count": null,
      "outputs": []
    },
    {
      "cell_type": "code",
      "metadata": {
        "id": "y5EiK_jAH4Qb",
        "colab": {
          "base_uri": "https://localhost:8080/",
          "height": 359
        },
        "outputId": "e2909d5b-a5a3-48dc-8224-7fde11b995e2"
      },
      "source": [
        "df = pd.read_csv('test_knn.csv')\n",
        "df"
      ],
      "execution_count": null,
      "outputs": [
        {
          "output_type": "execute_result",
          "data": {
            "text/html": [
              "<div>\n",
              "<style scoped>\n",
              "    .dataframe tbody tr th:only-of-type {\n",
              "        vertical-align: middle;\n",
              "    }\n",
              "\n",
              "    .dataframe tbody tr th {\n",
              "        vertical-align: top;\n",
              "    }\n",
              "\n",
              "    .dataframe thead th {\n",
              "        text-align: right;\n",
              "    }\n",
              "</style>\n",
              "<table border=\"1\" class=\"dataframe\">\n",
              "  <thead>\n",
              "    <tr style=\"text-align: right;\">\n",
              "      <th></th>\n",
              "      <th>height</th>\n",
              "      <th>weight</th>\n",
              "      <th>underweight</th>\n",
              "    </tr>\n",
              "  </thead>\n",
              "  <tbody>\n",
              "    <tr>\n",
              "      <th>0</th>\n",
              "      <td>2.781084</td>\n",
              "      <td>2.550537</td>\n",
              "      <td>0</td>\n",
              "    </tr>\n",
              "    <tr>\n",
              "      <th>1</th>\n",
              "      <td>1.465489</td>\n",
              "      <td>2.362125</td>\n",
              "      <td>0</td>\n",
              "    </tr>\n",
              "    <tr>\n",
              "      <th>2</th>\n",
              "      <td>3.396562</td>\n",
              "      <td>4.400294</td>\n",
              "      <td>0</td>\n",
              "    </tr>\n",
              "    <tr>\n",
              "      <th>3</th>\n",
              "      <td>1.388070</td>\n",
              "      <td>1.850220</td>\n",
              "      <td>0</td>\n",
              "    </tr>\n",
              "    <tr>\n",
              "      <th>4</th>\n",
              "      <td>3.064072</td>\n",
              "      <td>3.005306</td>\n",
              "      <td>0</td>\n",
              "    </tr>\n",
              "    <tr>\n",
              "      <th>5</th>\n",
              "      <td>7.627531</td>\n",
              "      <td>2.759262</td>\n",
              "      <td>1</td>\n",
              "    </tr>\n",
              "    <tr>\n",
              "      <th>6</th>\n",
              "      <td>5.332441</td>\n",
              "      <td>2.088627</td>\n",
              "      <td>1</td>\n",
              "    </tr>\n",
              "    <tr>\n",
              "      <th>7</th>\n",
              "      <td>6.922597</td>\n",
              "      <td>1.771064</td>\n",
              "      <td>1</td>\n",
              "    </tr>\n",
              "    <tr>\n",
              "      <th>8</th>\n",
              "      <td>8.675419</td>\n",
              "      <td>-0.242069</td>\n",
              "      <td>1</td>\n",
              "    </tr>\n",
              "    <tr>\n",
              "      <th>9</th>\n",
              "      <td>7.673756</td>\n",
              "      <td>3.508563</td>\n",
              "      <td>1</td>\n",
              "    </tr>\n",
              "  </tbody>\n",
              "</table>\n",
              "</div>"
            ],
            "text/plain": [
              "     height    weight  underweight\n",
              "0  2.781084  2.550537            0\n",
              "1  1.465489  2.362125            0\n",
              "2  3.396562  4.400294            0\n",
              "3  1.388070  1.850220            0\n",
              "4  3.064072  3.005306            0\n",
              "5  7.627531  2.759262            1\n",
              "6  5.332441  2.088627            1\n",
              "7  6.922597  1.771064            1\n",
              "8  8.675419 -0.242069            1\n",
              "9  7.673756  3.508563            1"
            ]
          },
          "metadata": {
            "tags": []
          },
          "execution_count": 3
        }
      ]
    },
    {
      "cell_type": "code",
      "metadata": {
        "id": "peua1thOIKe8"
      },
      "source": [
        "#Step 1 : Calculate Euclidean distance\n",
        "#Step 2 : Identify k-nearest neighbor\n",
        "#Step 3 : Predict class/label/output\n",
        "\n",
        "def euclidean_distance(row1,row2):\n",
        "    dist=0.0\n",
        "    ln=len(row1)\n",
        "    for i in range (0,ln-1):\n",
        "        temp=(row1[i]-row2[i])**2\n",
        "        dist=dist+temp\n",
        "    euc_dist=sqrt(dist)\n",
        "    return euc_dist"
      ],
      "execution_count": null,
      "outputs": []
    },
    {
      "cell_type": "code",
      "metadata": {
        "id": "1yMqjGiYMUBy",
        "colab": {
          "base_uri": "https://localhost:8080/",
          "height": 187
        },
        "outputId": "e63c8f61-27f5-4539-c4bd-83b8f262b22f"
      },
      "source": [
        "#Step 1\n",
        "test_data=df.to_numpy()\n",
        "test_row=test_data[0]\n",
        "for r in test_data:\n",
        "    distance=euclidean_distance(r,test_row)\n",
        "    print(distance)"
      ],
      "execution_count": null,
      "outputs": [
        {
          "output_type": "stream",
          "text": [
            "0.0\n",
            "1.3290173915275787\n",
            "1.9494646655653247\n",
            "1.559143938554055\n",
            "0.5356280721938492\n",
            "4.850940186986409\n",
            "2.592833759950511\n",
            "4.214227042632867\n",
            "6.522409988228339\n",
            "4.985585382449795\n"
          ],
          "name": "stdout"
        }
      ]
    },
    {
      "cell_type": "code",
      "metadata": {
        "id": "slUg-tbDPrIj"
      },
      "source": [
        "#Step 2\n",
        "def get_neighbors(train, test_row, k):\n",
        "  d = list()\n",
        "  for t_row in train:\n",
        "    e_d = euclidean_distance(t_row, test_row)\n",
        "    d.append((t_row,e_d))\n",
        "    d.sort(key=lambda tup:tup[1])\n",
        "    neighbors = list()\n",
        "  for i in range(k):\n",
        "    neighbors.append(d[i][0])\n",
        "  return neighbors, d\n"
      ],
      "execution_count": null,
      "outputs": []
    },
    {
      "cell_type": "code",
      "metadata": {
        "id": "n-MTFFHwS3AB",
        "colab": {
          "base_uri": "https://localhost:8080/",
          "height": 289
        },
        "outputId": "c8d1a549-b694-4b7a-f8ba-13022e0d7b00"
      },
      "source": [
        "k_neighbors, all_dist = get_neighbors(test_data,test_data[0],3)\n",
        "print('Distances')\n",
        "\n",
        "for ad in all_dist:\n",
        "  print(ad)\n",
        "\n",
        "  \n",
        "\n",
        "print('\\nK nearest neighbours')\n",
        "for n in k_neighbors:\n",
        "  print(n)"
      ],
      "execution_count": null,
      "outputs": [
        {
          "output_type": "stream",
          "text": [
            "Distances\n",
            "(array([2.7810836, 2.550537 , 0.       ]), 0.0)\n",
            "(array([3.06407232, 3.00530597, 0.        ]), 0.5356280721938492)\n",
            "(array([1.46548937, 2.36212508, 0.        ]), 1.3290173915275787)\n",
            "(array([1.38807019, 1.85022032, 0.        ]), 1.559143938554055)\n",
            "(array([3.39656169, 4.40029353, 0.        ]), 1.9494646655653247)\n",
            "(array([5.33244125, 2.08862677, 1.        ]), 2.592833759950511)\n",
            "(array([6.92259672, 1.77106367, 1.        ]), 4.214227042632867)\n",
            "(array([7.62753121, 2.75926224, 1.        ]), 4.850940186986409)\n",
            "(array([7.67375647, 3.50856301, 1.        ]), 4.985585382449795)\n",
            "(array([ 8.67541865, -0.24206865,  1.        ]), 6.522409988228339)\n",
            "\n",
            "K nearest neighbours\n",
            "[2.7810836 2.550537  0.       ]\n",
            "[3.06407232 3.00530597 0.        ]\n",
            "[1.46548937 2.36212508 0.        ]\n"
          ],
          "name": "stdout"
        }
      ]
    },
    {
      "cell_type": "code",
      "metadata": {
        "id": "AVQDPuQuUqA9"
      },
      "source": [
        "#Step 3\n",
        "\n",
        "def pred_class(train, test_row, k):\n",
        "  nei,eucl_dist=get_neighbors(train, test_row, k)\n",
        "  output_class = [r[-1] for r in nei]\n",
        "  prediction = max(set(output_class), key=output_class.count)\n",
        "  return prediction"
      ],
      "execution_count": null,
      "outputs": []
    },
    {
      "cell_type": "code",
      "metadata": {
        "id": "jQU13Yu3Z5ws",
        "colab": {
          "base_uri": "https://localhost:8080/",
          "height": 51
        },
        "outputId": "49cdf1e1-b4b6-45dd-ecde-773e9c0e3abb"
      },
      "source": [
        "predict_underweight = pred_class(test_data,test_data[0],3)\n",
        "print('Actual Class', test_data[0][-1])\n",
        "print('Predicted Class', predict_underweight)"
      ],
      "execution_count": null,
      "outputs": [
        {
          "output_type": "stream",
          "text": [
            "Actual Class 0.0\n",
            "Predicted Class 0.0\n"
          ],
          "name": "stdout"
        }
      ]
    },
    {
      "cell_type": "code",
      "metadata": {
        "id": "J1BbPhKeYeAJ",
        "colab": {
          "base_uri": "https://localhost:8080/",
          "height": 51
        },
        "outputId": "2059f87c-f878-4b95-cda3-4fa2a3d2d349"
      },
      "source": [
        "predict_underweight = pred_class(test_data,test_data[5],5)\n",
        "print('Actual Class', test_data[0][-1])\n",
        "print('Predicted Class', predict_underweight)"
      ],
      "execution_count": null,
      "outputs": [
        {
          "output_type": "stream",
          "text": [
            "Actual Class 0.0\n",
            "Predicted Class 1.0\n"
          ],
          "name": "stdout"
        }
      ]
    },
    {
      "cell_type": "code",
      "metadata": {
        "id": "Nb4YTelxb7zz",
        "colab": {
          "base_uri": "https://localhost:8080/",
          "height": 419
        },
        "outputId": "49c4508e-17a7-4956-922c-3f5db133bb6a"
      },
      "source": [
        "df = pd.read_csv('iris_data.csv')\n",
        "df"
      ],
      "execution_count": null,
      "outputs": [
        {
          "output_type": "execute_result",
          "data": {
            "text/html": [
              "<div>\n",
              "<style scoped>\n",
              "    .dataframe tbody tr th:only-of-type {\n",
              "        vertical-align: middle;\n",
              "    }\n",
              "\n",
              "    .dataframe tbody tr th {\n",
              "        vertical-align: top;\n",
              "    }\n",
              "\n",
              "    .dataframe thead th {\n",
              "        text-align: right;\n",
              "    }\n",
              "</style>\n",
              "<table border=\"1\" class=\"dataframe\">\n",
              "  <thead>\n",
              "    <tr style=\"text-align: right;\">\n",
              "      <th></th>\n",
              "      <th>sepal_length</th>\n",
              "      <th>sepal_width</th>\n",
              "      <th>petal_length</th>\n",
              "      <th>petal_width</th>\n",
              "      <th>species</th>\n",
              "    </tr>\n",
              "  </thead>\n",
              "  <tbody>\n",
              "    <tr>\n",
              "      <th>0</th>\n",
              "      <td>5.1</td>\n",
              "      <td>3.5</td>\n",
              "      <td>1.4</td>\n",
              "      <td>0.2</td>\n",
              "      <td>Iris-setosa</td>\n",
              "    </tr>\n",
              "    <tr>\n",
              "      <th>1</th>\n",
              "      <td>4.9</td>\n",
              "      <td>3.0</td>\n",
              "      <td>1.4</td>\n",
              "      <td>0.2</td>\n",
              "      <td>Iris-setosa</td>\n",
              "    </tr>\n",
              "    <tr>\n",
              "      <th>2</th>\n",
              "      <td>4.7</td>\n",
              "      <td>3.2</td>\n",
              "      <td>1.3</td>\n",
              "      <td>0.2</td>\n",
              "      <td>Iris-setosa</td>\n",
              "    </tr>\n",
              "    <tr>\n",
              "      <th>3</th>\n",
              "      <td>4.6</td>\n",
              "      <td>3.1</td>\n",
              "      <td>1.5</td>\n",
              "      <td>0.2</td>\n",
              "      <td>Iris-setosa</td>\n",
              "    </tr>\n",
              "    <tr>\n",
              "      <th>4</th>\n",
              "      <td>5.0</td>\n",
              "      <td>3.6</td>\n",
              "      <td>1.4</td>\n",
              "      <td>0.2</td>\n",
              "      <td>Iris-setosa</td>\n",
              "    </tr>\n",
              "    <tr>\n",
              "      <th>...</th>\n",
              "      <td>...</td>\n",
              "      <td>...</td>\n",
              "      <td>...</td>\n",
              "      <td>...</td>\n",
              "      <td>...</td>\n",
              "    </tr>\n",
              "    <tr>\n",
              "      <th>145</th>\n",
              "      <td>6.7</td>\n",
              "      <td>3.0</td>\n",
              "      <td>5.2</td>\n",
              "      <td>2.3</td>\n",
              "      <td>Iris-virginica</td>\n",
              "    </tr>\n",
              "    <tr>\n",
              "      <th>146</th>\n",
              "      <td>6.3</td>\n",
              "      <td>2.5</td>\n",
              "      <td>5.0</td>\n",
              "      <td>1.9</td>\n",
              "      <td>Iris-virginica</td>\n",
              "    </tr>\n",
              "    <tr>\n",
              "      <th>147</th>\n",
              "      <td>6.5</td>\n",
              "      <td>3.0</td>\n",
              "      <td>5.2</td>\n",
              "      <td>2.0</td>\n",
              "      <td>Iris-virginica</td>\n",
              "    </tr>\n",
              "    <tr>\n",
              "      <th>148</th>\n",
              "      <td>6.2</td>\n",
              "      <td>3.4</td>\n",
              "      <td>5.4</td>\n",
              "      <td>2.3</td>\n",
              "      <td>Iris-virginica</td>\n",
              "    </tr>\n",
              "    <tr>\n",
              "      <th>149</th>\n",
              "      <td>5.9</td>\n",
              "      <td>3.0</td>\n",
              "      <td>5.1</td>\n",
              "      <td>1.8</td>\n",
              "      <td>Iris-virginica</td>\n",
              "    </tr>\n",
              "  </tbody>\n",
              "</table>\n",
              "<p>150 rows × 5 columns</p>\n",
              "</div>"
            ],
            "text/plain": [
              "     sepal_length  sepal_width  petal_length  petal_width         species\n",
              "0             5.1          3.5           1.4          0.2     Iris-setosa\n",
              "1             4.9          3.0           1.4          0.2     Iris-setosa\n",
              "2             4.7          3.2           1.3          0.2     Iris-setosa\n",
              "3             4.6          3.1           1.5          0.2     Iris-setosa\n",
              "4             5.0          3.6           1.4          0.2     Iris-setosa\n",
              "..            ...          ...           ...          ...             ...\n",
              "145           6.7          3.0           5.2          2.3  Iris-virginica\n",
              "146           6.3          2.5           5.0          1.9  Iris-virginica\n",
              "147           6.5          3.0           5.2          2.0  Iris-virginica\n",
              "148           6.2          3.4           5.4          2.3  Iris-virginica\n",
              "149           5.9          3.0           5.1          1.8  Iris-virginica\n",
              "\n",
              "[150 rows x 5 columns]"
            ]
          },
          "metadata": {
            "tags": []
          },
          "execution_count": 41
        }
      ]
    },
    {
      "cell_type": "code",
      "metadata": {
        "id": "ew25EEaNcueG"
      },
      "source": [
        "import numpy as np\n",
        "from sklearn.model_selection import train_test_split\n",
        "from sklearn.preprocessing import StandardScaler\n",
        "from sklearn.neighbors import KNeighborsClassifier"
      ],
      "execution_count": null,
      "outputs": []
    },
    {
      "cell_type": "code",
      "metadata": {
        "id": "QWGbWYB9dixR",
        "colab": {
          "base_uri": "https://localhost:8080/"
        },
        "outputId": "89e32a1a-9b95-4836-f350-855005edc0b6"
      },
      "source": [
        "X = df.iloc[:,:-1].values\n",
        "y = df.iloc[:,4].values\n",
        "\n",
        "X_train,X_test,y_train,y_test = train_test_split(X,y,test_size = 0.2)"
      ],
      "execution_count": null,
      "outputs": [
        {
          "output_type": "error",
          "ename": "NameError",
          "evalue": "ignored",
          "traceback": [
            "\u001b[0;31m---------------------------------------------------------------------------\u001b[0m",
            "\u001b[0;31mNameError\u001b[0m                                 Traceback (most recent call last)",
            "\u001b[0;32m<ipython-input-1-1191866aca9c>\u001b[0m in \u001b[0;36m<module>\u001b[0;34m()\u001b[0m\n\u001b[0;32m----> 1\u001b[0;31m \u001b[0mX\u001b[0m \u001b[0;34m=\u001b[0m \u001b[0mdf\u001b[0m\u001b[0;34m.\u001b[0m\u001b[0miloc\u001b[0m\u001b[0;34m[\u001b[0m\u001b[0;34m:\u001b[0m\u001b[0;34m,\u001b[0m\u001b[0;34m:\u001b[0m\u001b[0;34m-\u001b[0m\u001b[0;36m1\u001b[0m\u001b[0;34m]\u001b[0m\u001b[0;34m.\u001b[0m\u001b[0mvalues\u001b[0m\u001b[0;34m\u001b[0m\u001b[0;34m\u001b[0m\u001b[0m\n\u001b[0m\u001b[1;32m      2\u001b[0m \u001b[0my\u001b[0m \u001b[0;34m=\u001b[0m \u001b[0mdf\u001b[0m\u001b[0;34m.\u001b[0m\u001b[0miloc\u001b[0m\u001b[0;34m[\u001b[0m\u001b[0;34m:\u001b[0m\u001b[0;34m,\u001b[0m\u001b[0;36m4\u001b[0m\u001b[0;34m]\u001b[0m\u001b[0;34m.\u001b[0m\u001b[0mvalues\u001b[0m\u001b[0;34m\u001b[0m\u001b[0;34m\u001b[0m\u001b[0m\n\u001b[1;32m      3\u001b[0m \u001b[0;34m\u001b[0m\u001b[0m\n\u001b[1;32m      4\u001b[0m \u001b[0mX\u001b[0m\u001b[0;34m\u001b[0m\u001b[0;34m\u001b[0m\u001b[0m\n",
            "\u001b[0;31mNameError\u001b[0m: name 'df' is not defined"
          ]
        }
      ]
    },
    {
      "cell_type": "code",
      "metadata": {
        "id": "-K_Lygz0eMd3"
      },
      "source": [
        "scal = StandardScaler()\n",
        "X_train = scal.fit_transform(X_train)\n",
        "X_test = scal.transform(X_test)"
      ],
      "execution_count": null,
      "outputs": []
    },
    {
      "cell_type": "code",
      "metadata": {
        "id": "7nv_Xecterh3"
      },
      "source": [
        "classifier = KNeighborsClassifier(n_neighbors=5)\n",
        "classifier.fit(X_train,y_train)\n",
        "y_pred = classifier.predict(X_test)"
      ],
      "execution_count": null,
      "outputs": []
    },
    {
      "cell_type": "code",
      "metadata": {
        "id": "HJR4qwhFg5XU",
        "colab": {
          "base_uri": "https://localhost:8080/",
          "height": 350
        },
        "outputId": "13078b8f-0014-4256-80dd-1e4465fc198f"
      },
      "source": [
        "import seaborn as sn\n",
        "\n",
        "confusion_matrix = pd.crosstab(y_test, y_pred, rownames=['Actual'], colnames=['Predicted'])\n",
        "sn.heatmap(confusion_matrix, annot= True)"
      ],
      "execution_count": null,
      "outputs": [
        {
          "output_type": "stream",
          "text": [
            "/usr/local/lib/python3.6/dist-packages/statsmodels/tools/_testing.py:19: FutureWarning: pandas.util.testing is deprecated. Use the functions in the public API at pandas.testing instead.\n",
            "  import pandas.util.testing as tm\n"
          ],
          "name": "stderr"
        },
        {
          "output_type": "execute_result",
          "data": {
            "text/plain": [
              "<matplotlib.axes._subplots.AxesSubplot at 0x7f2951cdf400>"
            ]
          },
          "metadata": {
            "tags": []
          },
          "execution_count": 54
        },
        {
          "output_type": "display_data",
          "data": {
            "image/png": "[encoded data removed]",
            "text/plain": [
              "<Figure size 432x288 with 2 Axes>"
            ]
          },
          "metadata": {
            "tags": [],
            "needs_background": "light"
          }
        }
      ]
    },
    {
      "cell_type": "code",
      "metadata": {
        "id": "KNptI1t2iFXf"
      },
      "source": [
        "# Accuracy = 28 / 30 = 93.33%"
      ],
      "execution_count": null,
      "outputs": []
    },
    {
      "cell_type": "markdown",
      "metadata": {
        "id": "MdMCv2EXiNyG"
      },
      "source": [
        "# Conclusion\n",
        "\n",
        "**Part 1:**\n",
        "\n",
        "For the given dataset of 10 samples, K nearest Neighbor algo is applied. Its is found that step by step implementation of this algorithm shows correct classification. the above algo was tested for k=3 and for k=5. For both the cases, results classification is correct.\n",
        "\n",
        "\n",
        "**Part 2:**\n",
        "\n",
        "Knn algorithm is applied for iris data of 150 rows/samples.\n",
        "For 80% of training data and 20% of test data, classifier shows 93.33%."
      ]
    }
  ]
}